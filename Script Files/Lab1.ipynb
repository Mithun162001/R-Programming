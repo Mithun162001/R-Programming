{
 "cells": [
  {
   "cell_type": "markdown",
   "metadata": {},
   "source": [
    "<B><u>Name:-</u></b>Mithun G\n",
    "\n",
    "<B><u>USN:-</u></b>19BTRCR006"
   ]
  },
  {
   "cell_type": "markdown",
   "metadata": {},
   "source": [
    "<center><b><h1>LAB PROGRAM 1</h1></b></center>"
   ]
  },
  {
   "cell_type": "markdown",
   "metadata": {},
   "source": [
    "<b>\n",
    "1.\tInstall and configure R, set working directory.<br>\n",
    "2.\tInstall Packages and calling installed packages <br>\n",
    "3.\tR studio environment and functionalities of  R studio <br>\n",
    "4.\tExplore assignment, comments, and case sensitivity in R. <br>\n",
    "5.\tUse some built-in functions such as pi, sqrt, log, round, factorial, trigonometric functions, ect. From R. <br>\n",
    "6.\tCreate R script files and call it from R console. <br>\n",
    "7.\tExplore for getting help, examples, and demonstrations on R. <br>\n",
    "8.\tUse R as calculator. <br>\n",
    "9.\tExplore different mathematical operators. <br>\n",
    "<b>"
   ]
  },
  {
   "cell_type": "markdown",
   "metadata": {},
   "source": [
    "<img src='Screenshot 2021-06-08 144533.jpg'>"
   ]
  }
 ],
 "metadata": {
  "kernelspec": {
   "display_name": "R",
   "language": "R",
   "name": "ir"
  },
  "language_info": {
   "codemirror_mode": "r",
   "file_extension": ".r",
   "mimetype": "text/x-r-source",
   "name": "R",
   "pygments_lexer": "r",
   "version": "3.6.3"
  }
 },
 "nbformat": 4,
 "nbformat_minor": 4
}
