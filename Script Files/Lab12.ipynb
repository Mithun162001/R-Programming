{
 "cells": [
  {
   "cell_type": "markdown",
   "metadata": {},
   "source": [
    "<b><u>Name:</u></b> Mithun G\n",
    "\n",
    "<b><u>USN:</u></b> 19BTRCR006"
   ]
  },
  {
   "cell_type": "markdown",
   "metadata": {},
   "source": [
    "<center><b><h1>LAB PROGRAM 12</center>"
   ]
  },
  {
   "cell_type": "markdown",
   "metadata": {},
   "source": [
    "<b>1.\tCreate a table with the entries “S.No.”, “Name”, “Sub1Marks”, “Sub2Marks”, “Sub3Marks”, and “Sub4Marks” for 25 students of a class. And save it in a .csv format file."
   ]
  },
  {
   "cell_type": "code",
   "execution_count": 22,
   "metadata": {},
   "outputs": [
    {
     "data": {
      "text/html": [
       "<table>\n",
       "<caption>A data.frame: 25 × 6</caption>\n",
       "<thead>\n",
       "\t<tr><th scope=col>S.no</th><th scope=col>name</th><th scope=col>Sub1Marks</th><th scope=col>Sub2Marks</th><th scope=col>Sub3Marks</th><th scope=col>Sub4Marks</th></tr>\n",
       "\t<tr><th scope=col>&lt;int&gt;</th><th scope=col>&lt;fct&gt;</th><th scope=col>&lt;int&gt;</th><th scope=col>&lt;int&gt;</th><th scope=col>&lt;int&gt;</th><th scope=col>&lt;int&gt;</th></tr>\n",
       "</thead>\n",
       "<tbody>\n",
       "\t<tr><td> 1</td><td>A</td><td>28</td><td>97</td><td>34</td><td>90</td></tr>\n",
       "\t<tr><td> 2</td><td>B</td><td>77</td><td>16</td><td> 1</td><td>68</td></tr>\n",
       "\t<tr><td> 3</td><td>C</td><td>57</td><td>83</td><td>25</td><td>73</td></tr>\n",
       "\t<tr><td> 4</td><td>D</td><td>48</td><td>23</td><td>14</td><td>42</td></tr>\n",
       "\t<tr><td> 5</td><td>E</td><td>27</td><td>45</td><td>31</td><td>81</td></tr>\n",
       "\t<tr><td> 6</td><td>F</td><td>28</td><td>97</td><td>34</td><td>90</td></tr>\n",
       "\t<tr><td> 7</td><td>G</td><td>77</td><td>16</td><td> 1</td><td>68</td></tr>\n",
       "\t<tr><td> 8</td><td>H</td><td>57</td><td>83</td><td>25</td><td>73</td></tr>\n",
       "\t<tr><td> 9</td><td>I</td><td>48</td><td>23</td><td>14</td><td>42</td></tr>\n",
       "\t<tr><td>10</td><td>J</td><td>27</td><td>45</td><td>31</td><td>81</td></tr>\n",
       "\t<tr><td>11</td><td>K</td><td>28</td><td>97</td><td>34</td><td>90</td></tr>\n",
       "\t<tr><td>12</td><td>L</td><td>77</td><td>16</td><td> 1</td><td>68</td></tr>\n",
       "\t<tr><td>13</td><td>M</td><td>57</td><td>83</td><td>25</td><td>73</td></tr>\n",
       "\t<tr><td>14</td><td>N</td><td>48</td><td>23</td><td>14</td><td>42</td></tr>\n",
       "\t<tr><td>15</td><td>O</td><td>27</td><td>45</td><td>31</td><td>81</td></tr>\n",
       "\t<tr><td>16</td><td>P</td><td>28</td><td>97</td><td>34</td><td>90</td></tr>\n",
       "\t<tr><td>17</td><td>Q</td><td>77</td><td>16</td><td> 1</td><td>68</td></tr>\n",
       "\t<tr><td>18</td><td>R</td><td>57</td><td>83</td><td>25</td><td>73</td></tr>\n",
       "\t<tr><td>19</td><td>S</td><td>48</td><td>23</td><td>14</td><td>42</td></tr>\n",
       "\t<tr><td>20</td><td>T</td><td>27</td><td>45</td><td>31</td><td>81</td></tr>\n",
       "\t<tr><td>21</td><td>U</td><td>28</td><td>97</td><td>34</td><td>90</td></tr>\n",
       "\t<tr><td>22</td><td>V</td><td>77</td><td>16</td><td> 1</td><td>68</td></tr>\n",
       "\t<tr><td>23</td><td>W</td><td>57</td><td>83</td><td>25</td><td>73</td></tr>\n",
       "\t<tr><td>24</td><td>X</td><td>48</td><td>23</td><td>14</td><td>42</td></tr>\n",
       "\t<tr><td>25</td><td>Y</td><td>27</td><td>45</td><td>31</td><td>81</td></tr>\n",
       "</tbody>\n",
       "</table>\n"
      ],
      "text/latex": [
       "A data.frame: 25 × 6\n",
       "\\begin{tabular}{llllll}\n",
       " S.no & name & Sub1Marks & Sub2Marks & Sub3Marks & Sub4Marks\\\\\n",
       " <int> & <fct> & <int> & <int> & <int> & <int>\\\\\n",
       "\\hline\n",
       "\t  1 & A & 28 & 97 & 34 & 90\\\\\n",
       "\t  2 & B & 77 & 16 &  1 & 68\\\\\n",
       "\t  3 & C & 57 & 83 & 25 & 73\\\\\n",
       "\t  4 & D & 48 & 23 & 14 & 42\\\\\n",
       "\t  5 & E & 27 & 45 & 31 & 81\\\\\n",
       "\t  6 & F & 28 & 97 & 34 & 90\\\\\n",
       "\t  7 & G & 77 & 16 &  1 & 68\\\\\n",
       "\t  8 & H & 57 & 83 & 25 & 73\\\\\n",
       "\t  9 & I & 48 & 23 & 14 & 42\\\\\n",
       "\t 10 & J & 27 & 45 & 31 & 81\\\\\n",
       "\t 11 & K & 28 & 97 & 34 & 90\\\\\n",
       "\t 12 & L & 77 & 16 &  1 & 68\\\\\n",
       "\t 13 & M & 57 & 83 & 25 & 73\\\\\n",
       "\t 14 & N & 48 & 23 & 14 & 42\\\\\n",
       "\t 15 & O & 27 & 45 & 31 & 81\\\\\n",
       "\t 16 & P & 28 & 97 & 34 & 90\\\\\n",
       "\t 17 & Q & 77 & 16 &  1 & 68\\\\\n",
       "\t 18 & R & 57 & 83 & 25 & 73\\\\\n",
       "\t 19 & S & 48 & 23 & 14 & 42\\\\\n",
       "\t 20 & T & 27 & 45 & 31 & 81\\\\\n",
       "\t 21 & U & 28 & 97 & 34 & 90\\\\\n",
       "\t 22 & V & 77 & 16 &  1 & 68\\\\\n",
       "\t 23 & W & 57 & 83 & 25 & 73\\\\\n",
       "\t 24 & X & 48 & 23 & 14 & 42\\\\\n",
       "\t 25 & Y & 27 & 45 & 31 & 81\\\\\n",
       "\\end{tabular}\n"
      ],
      "text/markdown": [
       "\n",
       "A data.frame: 25 × 6\n",
       "\n",
       "| S.no &lt;int&gt; | name &lt;fct&gt; | Sub1Marks &lt;int&gt; | Sub2Marks &lt;int&gt; | Sub3Marks &lt;int&gt; | Sub4Marks &lt;int&gt; |\n",
       "|---|---|---|---|---|---|\n",
       "|  1 | A | 28 | 97 | 34 | 90 |\n",
       "|  2 | B | 77 | 16 |  1 | 68 |\n",
       "|  3 | C | 57 | 83 | 25 | 73 |\n",
       "|  4 | D | 48 | 23 | 14 | 42 |\n",
       "|  5 | E | 27 | 45 | 31 | 81 |\n",
       "|  6 | F | 28 | 97 | 34 | 90 |\n",
       "|  7 | G | 77 | 16 |  1 | 68 |\n",
       "|  8 | H | 57 | 83 | 25 | 73 |\n",
       "|  9 | I | 48 | 23 | 14 | 42 |\n",
       "| 10 | J | 27 | 45 | 31 | 81 |\n",
       "| 11 | K | 28 | 97 | 34 | 90 |\n",
       "| 12 | L | 77 | 16 |  1 | 68 |\n",
       "| 13 | M | 57 | 83 | 25 | 73 |\n",
       "| 14 | N | 48 | 23 | 14 | 42 |\n",
       "| 15 | O | 27 | 45 | 31 | 81 |\n",
       "| 16 | P | 28 | 97 | 34 | 90 |\n",
       "| 17 | Q | 77 | 16 |  1 | 68 |\n",
       "| 18 | R | 57 | 83 | 25 | 73 |\n",
       "| 19 | S | 48 | 23 | 14 | 42 |\n",
       "| 20 | T | 27 | 45 | 31 | 81 |\n",
       "| 21 | U | 28 | 97 | 34 | 90 |\n",
       "| 22 | V | 77 | 16 |  1 | 68 |\n",
       "| 23 | W | 57 | 83 | 25 | 73 |\n",
       "| 24 | X | 48 | 23 | 14 | 42 |\n",
       "| 25 | Y | 27 | 45 | 31 | 81 |\n",
       "\n"
      ],
      "text/plain": [
       "   S.no name Sub1Marks Sub2Marks Sub3Marks Sub4Marks\n",
       "1   1   A    28        97        34        90       \n",
       "2   2   B    77        16         1        68       \n",
       "3   3   C    57        83        25        73       \n",
       "4   4   D    48        23        14        42       \n",
       "5   5   E    27        45        31        81       \n",
       "6   6   F    28        97        34        90       \n",
       "7   7   G    77        16         1        68       \n",
       "8   8   H    57        83        25        73       \n",
       "9   9   I    48        23        14        42       \n",
       "10 10   J    27        45        31        81       \n",
       "11 11   K    28        97        34        90       \n",
       "12 12   L    77        16         1        68       \n",
       "13 13   M    57        83        25        73       \n",
       "14 14   N    48        23        14        42       \n",
       "15 15   O    27        45        31        81       \n",
       "16 16   P    28        97        34        90       \n",
       "17 17   Q    77        16         1        68       \n",
       "18 18   R    57        83        25        73       \n",
       "19 19   S    48        23        14        42       \n",
       "20 20   T    27        45        31        81       \n",
       "21 21   U    28        97        34        90       \n",
       "22 22   V    77        16         1        68       \n",
       "23 23   W    57        83        25        73       \n",
       "24 24   X    48        23        14        42       \n",
       "25 25   Y    27        45        31        81       "
      ]
     },
     "metadata": {},
     "output_type": "display_data"
    }
   ],
   "source": [
    "name <- LETTERS[1:25]\n",
    "table <- data.frame(\"S.no\"=1:25,\"name\" = name, \"Sub1Marks\"=c(sample(0:100,5,replace=F)),\"Sub2Marks\"=c(sample(0:100,5,replace=F)),\"Sub3Marks\"=c(sample(0:100,5,replace=F)),\"Sub4Marks\"=c(sample(0:100,5,replace=F)))\n",
    "table"
   ]
  },
  {
   "cell_type": "code",
   "execution_count": 23,
   "metadata": {},
   "outputs": [
    {
     "data": {
      "text/html": [
       "'/home/jovyan'"
      ],
      "text/latex": [
       "'/home/jovyan'"
      ],
      "text/markdown": [
       "'/home/jovyan'"
      ],
      "text/plain": [
       "[1] \"/home/jovyan\""
      ]
     },
     "metadata": {},
     "output_type": "display_data"
    }
   ],
   "source": [
    "write.csv(table,file=\"Students_lab.csv\",row.names = T)\n",
    "getwd()"
   ]
  },
  {
   "cell_type": "markdown",
   "metadata": {},
   "source": [
    "<b>2.\tApply statistical commands such as summary(), str(), Names(), Rownames(), Columnnames(), and Dimensions() for the data of file and observe the outcomes."
   ]
  },
  {
   "cell_type": "code",
   "execution_count": 24,
   "metadata": {},
   "outputs": [
    {
     "data": {
      "text/plain": [
       "      S.no         name      Sub1Marks      Sub2Marks      Sub3Marks \n",
       " Min.   : 1   A      : 1   Min.   :27.0   Min.   :16.0   Min.   : 1  \n",
       " 1st Qu.: 7   B      : 1   1st Qu.:28.0   1st Qu.:23.0   1st Qu.:14  \n",
       " Median :13   C      : 1   Median :48.0   Median :45.0   Median :25  \n",
       " Mean   :13   D      : 1   Mean   :47.4   Mean   :52.8   Mean   :21  \n",
       " 3rd Qu.:19   E      : 1   3rd Qu.:57.0   3rd Qu.:83.0   3rd Qu.:31  \n",
       " Max.   :25   F      : 1   Max.   :77.0   Max.   :97.0   Max.   :34  \n",
       "              (Other):19                                             \n",
       "   Sub4Marks   \n",
       " Min.   :42.0  \n",
       " 1st Qu.:68.0  \n",
       " Median :73.0  \n",
       " Mean   :70.8  \n",
       " 3rd Qu.:81.0  \n",
       " Max.   :90.0  \n",
       "               "
      ]
     },
     "metadata": {},
     "output_type": "display_data"
    }
   ],
   "source": [
    "# summary\n",
    "summary(table)"
   ]
  },
  {
   "cell_type": "code",
   "execution_count": 26,
   "metadata": {},
   "outputs": [
    {
     "name": "stdout",
     "output_type": "stream",
     "text": [
      "'data.frame':\t25 obs. of  6 variables:\n",
      " $ S.no     : int  1 2 3 4 5 6 7 8 9 10 ...\n",
      " $ name     : Factor w/ 25 levels \"A\",\"B\",\"C\",\"D\",..: 1 2 3 4 5 6 7 8 9 10 ...\n",
      " $ Sub1Marks: int  28 77 57 48 27 28 77 57 48 27 ...\n",
      " $ Sub2Marks: int  97 16 83 23 45 97 16 83 23 45 ...\n",
      " $ Sub3Marks: int  34 1 25 14 31 34 1 25 14 31 ...\n",
      " $ Sub4Marks: int  90 68 73 42 81 90 68 73 42 81 ...\n"
     ]
    }
   ],
   "source": [
    "#str()\n",
    "str(table)"
   ]
  },
  {
   "cell_type": "code",
   "execution_count": 28,
   "metadata": {},
   "outputs": [
    {
     "data": {
      "text/html": [
       "<style>\n",
       ".list-inline {list-style: none; margin:0; padding: 0}\n",
       ".list-inline>li {display: inline-block}\n",
       ".list-inline>li:not(:last-child)::after {content: \"\\00b7\"; padding: 0 .5ex}\n",
       "</style>\n",
       "<ol class=list-inline><li>'S.no'</li><li>'name'</li><li>'Sub1Marks'</li><li>'Sub2Marks'</li><li>'Sub3Marks'</li><li>'Sub4Marks'</li></ol>\n"
      ],
      "text/latex": [
       "\\begin{enumerate*}\n",
       "\\item 'S.no'\n",
       "\\item 'name'\n",
       "\\item 'Sub1Marks'\n",
       "\\item 'Sub2Marks'\n",
       "\\item 'Sub3Marks'\n",
       "\\item 'Sub4Marks'\n",
       "\\end{enumerate*}\n"
      ],
      "text/markdown": [
       "1. 'S.no'\n",
       "2. 'name'\n",
       "3. 'Sub1Marks'\n",
       "4. 'Sub2Marks'\n",
       "5. 'Sub3Marks'\n",
       "6. 'Sub4Marks'\n",
       "\n",
       "\n"
      ],
      "text/plain": [
       "[1] \"S.no\"      \"name\"      \"Sub1Marks\" \"Sub2Marks\" \"Sub3Marks\" \"Sub4Marks\""
      ]
     },
     "metadata": {},
     "output_type": "display_data"
    }
   ],
   "source": [
    "# names\n",
    "names(table)"
   ]
  },
  {
   "cell_type": "code",
   "execution_count": 29,
   "metadata": {},
   "outputs": [
    {
     "data": {
      "text/html": [
       "<style>\n",
       ".list-inline {list-style: none; margin:0; padding: 0}\n",
       ".list-inline>li {display: inline-block}\n",
       ".list-inline>li:not(:last-child)::after {content: \"\\00b7\"; padding: 0 .5ex}\n",
       "</style>\n",
       "<ol class=list-inline><li>'1'</li><li>'2'</li><li>'3'</li><li>'4'</li><li>'5'</li><li>'6'</li><li>'7'</li><li>'8'</li><li>'9'</li><li>'10'</li><li>'11'</li><li>'12'</li><li>'13'</li><li>'14'</li><li>'15'</li><li>'16'</li><li>'17'</li><li>'18'</li><li>'19'</li><li>'20'</li><li>'21'</li><li>'22'</li><li>'23'</li><li>'24'</li><li>'25'</li></ol>\n"
      ],
      "text/latex": [
       "\\begin{enumerate*}\n",
       "\\item '1'\n",
       "\\item '2'\n",
       "\\item '3'\n",
       "\\item '4'\n",
       "\\item '5'\n",
       "\\item '6'\n",
       "\\item '7'\n",
       "\\item '8'\n",
       "\\item '9'\n",
       "\\item '10'\n",
       "\\item '11'\n",
       "\\item '12'\n",
       "\\item '13'\n",
       "\\item '14'\n",
       "\\item '15'\n",
       "\\item '16'\n",
       "\\item '17'\n",
       "\\item '18'\n",
       "\\item '19'\n",
       "\\item '20'\n",
       "\\item '21'\n",
       "\\item '22'\n",
       "\\item '23'\n",
       "\\item '24'\n",
       "\\item '25'\n",
       "\\end{enumerate*}\n"
      ],
      "text/markdown": [
       "1. '1'\n",
       "2. '2'\n",
       "3. '3'\n",
       "4. '4'\n",
       "5. '5'\n",
       "6. '6'\n",
       "7. '7'\n",
       "8. '8'\n",
       "9. '9'\n",
       "10. '10'\n",
       "11. '11'\n",
       "12. '12'\n",
       "13. '13'\n",
       "14. '14'\n",
       "15. '15'\n",
       "16. '16'\n",
       "17. '17'\n",
       "18. '18'\n",
       "19. '19'\n",
       "20. '20'\n",
       "21. '21'\n",
       "22. '22'\n",
       "23. '23'\n",
       "24. '24'\n",
       "25. '25'\n",
       "\n",
       "\n"
      ],
      "text/plain": [
       " [1] \"1\"  \"2\"  \"3\"  \"4\"  \"5\"  \"6\"  \"7\"  \"8\"  \"9\"  \"10\" \"11\" \"12\" \"13\" \"14\" \"15\"\n",
       "[16] \"16\" \"17\" \"18\" \"19\" \"20\" \"21\" \"22\" \"23\" \"24\" \"25\""
      ]
     },
     "metadata": {},
     "output_type": "display_data"
    }
   ],
   "source": [
    "# rownames\n",
    "rownames(table)"
   ]
  },
  {
   "cell_type": "code",
   "execution_count": 33,
   "metadata": {},
   "outputs": [
    {
     "data": {
      "text/html": [
       "<style>\n",
       ".list-inline {list-style: none; margin:0; padding: 0}\n",
       ".list-inline>li {display: inline-block}\n",
       ".list-inline>li:not(:last-child)::after {content: \"\\00b7\"; padding: 0 .5ex}\n",
       "</style>\n",
       "<ol class=list-inline><li>'S.no'</li><li>'name'</li><li>'Sub1Marks'</li><li>'Sub2Marks'</li><li>'Sub3Marks'</li><li>'Sub4Marks'</li></ol>\n"
      ],
      "text/latex": [
       "\\begin{enumerate*}\n",
       "\\item 'S.no'\n",
       "\\item 'name'\n",
       "\\item 'Sub1Marks'\n",
       "\\item 'Sub2Marks'\n",
       "\\item 'Sub3Marks'\n",
       "\\item 'Sub4Marks'\n",
       "\\end{enumerate*}\n"
      ],
      "text/markdown": [
       "1. 'S.no'\n",
       "2. 'name'\n",
       "3. 'Sub1Marks'\n",
       "4. 'Sub2Marks'\n",
       "5. 'Sub3Marks'\n",
       "6. 'Sub4Marks'\n",
       "\n",
       "\n"
      ],
      "text/plain": [
       "[1] \"S.no\"      \"name\"      \"Sub1Marks\" \"Sub2Marks\" \"Sub3Marks\" \"Sub4Marks\""
      ]
     },
     "metadata": {},
     "output_type": "display_data"
    }
   ],
   "source": [
    "# column names\n",
    "colnames(table)"
   ]
  },
  {
   "cell_type": "code",
   "execution_count": 34,
   "metadata": {},
   "outputs": [
    {
     "data": {
      "text/html": [
       "<style>\n",
       ".list-inline {list-style: none; margin:0; padding: 0}\n",
       ".list-inline>li {display: inline-block}\n",
       ".list-inline>li:not(:last-child)::after {content: \"\\00b7\"; padding: 0 .5ex}\n",
       "</style>\n",
       "<ol class=list-inline><li>25</li><li>6</li></ol>\n"
      ],
      "text/latex": [
       "\\begin{enumerate*}\n",
       "\\item 25\n",
       "\\item 6\n",
       "\\end{enumerate*}\n"
      ],
      "text/markdown": [
       "1. 25\n",
       "2. 6\n",
       "\n",
       "\n"
      ],
      "text/plain": [
       "[1] 25  6"
      ]
     },
     "metadata": {},
     "output_type": "display_data"
    }
   ],
   "source": [
    "# dimensions\n",
    "dim(table)"
   ]
  },
  {
   "cell_type": "markdown",
   "metadata": {},
   "source": [
    "<b>3.\tFind log for each value in the data set with log() command and perform the summary() command."
   ]
  },
  {
   "cell_type": "code",
   "execution_count": 42,
   "metadata": {},
   "outputs": [
    {
     "data": {
      "text/html": [
       "<style>\n",
       ".list-inline {list-style: none; margin:0; padding: 0}\n",
       ".list-inline>li {display: inline-block}\n",
       ".list-inline>li:not(:last-child)::after {content: \"\\00b7\"; padding: 0 .5ex}\n",
       "</style>\n",
       "<ol class=list-inline><li>3.3322045101752</li><li>4.34380542185368</li><li>4.04305126783455</li><li>3.87120101090789</li><li>3.29583686600433</li><li>3.3322045101752</li><li>4.34380542185368</li><li>4.04305126783455</li><li>3.87120101090789</li><li>3.29583686600433</li><li>3.3322045101752</li><li>4.34380542185368</li><li>4.04305126783455</li><li>3.87120101090789</li><li>3.29583686600433</li><li>3.3322045101752</li><li>4.34380542185368</li><li>4.04305126783455</li><li>3.87120101090789</li><li>3.29583686600433</li><li>3.3322045101752</li><li>4.34380542185368</li><li>4.04305126783455</li><li>3.87120101090789</li><li>3.29583686600433</li></ol>\n"
      ],
      "text/latex": [
       "\\begin{enumerate*}\n",
       "\\item 3.3322045101752\n",
       "\\item 4.34380542185368\n",
       "\\item 4.04305126783455\n",
       "\\item 3.87120101090789\n",
       "\\item 3.29583686600433\n",
       "\\item 3.3322045101752\n",
       "\\item 4.34380542185368\n",
       "\\item 4.04305126783455\n",
       "\\item 3.87120101090789\n",
       "\\item 3.29583686600433\n",
       "\\item 3.3322045101752\n",
       "\\item 4.34380542185368\n",
       "\\item 4.04305126783455\n",
       "\\item 3.87120101090789\n",
       "\\item 3.29583686600433\n",
       "\\item 3.3322045101752\n",
       "\\item 4.34380542185368\n",
       "\\item 4.04305126783455\n",
       "\\item 3.87120101090789\n",
       "\\item 3.29583686600433\n",
       "\\item 3.3322045101752\n",
       "\\item 4.34380542185368\n",
       "\\item 4.04305126783455\n",
       "\\item 3.87120101090789\n",
       "\\item 3.29583686600433\n",
       "\\end{enumerate*}\n"
      ],
      "text/markdown": [
       "1. 3.3322045101752\n",
       "2. 4.34380542185368\n",
       "3. 4.04305126783455\n",
       "4. 3.87120101090789\n",
       "5. 3.29583686600433\n",
       "6. 3.3322045101752\n",
       "7. 4.34380542185368\n",
       "8. 4.04305126783455\n",
       "9. 3.87120101090789\n",
       "10. 3.29583686600433\n",
       "11. 3.3322045101752\n",
       "12. 4.34380542185368\n",
       "13. 4.04305126783455\n",
       "14. 3.87120101090789\n",
       "15. 3.29583686600433\n",
       "16. 3.3322045101752\n",
       "17. 4.34380542185368\n",
       "18. 4.04305126783455\n",
       "19. 3.87120101090789\n",
       "20. 3.29583686600433\n",
       "21. 3.3322045101752\n",
       "22. 4.34380542185368\n",
       "23. 4.04305126783455\n",
       "24. 3.87120101090789\n",
       "25. 3.29583686600433\n",
       "\n",
       "\n"
      ],
      "text/plain": [
       " [1] 3.332205 4.343805 4.043051 3.871201 3.295837 3.332205 4.343805 4.043051\n",
       " [9] 3.871201 3.295837 3.332205 4.343805 4.043051 3.871201 3.295837 3.332205\n",
       "[17] 4.343805 4.043051 3.871201 3.295837 3.332205 4.343805 4.043051 3.871201\n",
       "[25] 3.295837"
      ]
     },
     "metadata": {},
     "output_type": "display_data"
    },
    {
     "data": {
      "text/html": [
       "<style>\n",
       ".list-inline {list-style: none; margin:0; padding: 0}\n",
       ".list-inline>li {display: inline-block}\n",
       ".list-inline>li:not(:last-child)::after {content: \"\\00b7\"; padding: 0 .5ex}\n",
       "</style>\n",
       "<ol class=list-inline><li>4.57471097850338</li><li>2.77258872223978</li><li>4.4188406077966</li><li>3.13549421592915</li><li>3.80666248977032</li><li>4.57471097850338</li><li>2.77258872223978</li><li>4.4188406077966</li><li>3.13549421592915</li><li>3.80666248977032</li><li>4.57471097850338</li><li>2.77258872223978</li><li>4.4188406077966</li><li>3.13549421592915</li><li>3.80666248977032</li><li>4.57471097850338</li><li>2.77258872223978</li><li>4.4188406077966</li><li>3.13549421592915</li><li>3.80666248977032</li><li>4.57471097850338</li><li>2.77258872223978</li><li>4.4188406077966</li><li>3.13549421592915</li><li>3.80666248977032</li></ol>\n"
      ],
      "text/latex": [
       "\\begin{enumerate*}\n",
       "\\item 4.57471097850338\n",
       "\\item 2.77258872223978\n",
       "\\item 4.4188406077966\n",
       "\\item 3.13549421592915\n",
       "\\item 3.80666248977032\n",
       "\\item 4.57471097850338\n",
       "\\item 2.77258872223978\n",
       "\\item 4.4188406077966\n",
       "\\item 3.13549421592915\n",
       "\\item 3.80666248977032\n",
       "\\item 4.57471097850338\n",
       "\\item 2.77258872223978\n",
       "\\item 4.4188406077966\n",
       "\\item 3.13549421592915\n",
       "\\item 3.80666248977032\n",
       "\\item 4.57471097850338\n",
       "\\item 2.77258872223978\n",
       "\\item 4.4188406077966\n",
       "\\item 3.13549421592915\n",
       "\\item 3.80666248977032\n",
       "\\item 4.57471097850338\n",
       "\\item 2.77258872223978\n",
       "\\item 4.4188406077966\n",
       "\\item 3.13549421592915\n",
       "\\item 3.80666248977032\n",
       "\\end{enumerate*}\n"
      ],
      "text/markdown": [
       "1. 4.57471097850338\n",
       "2. 2.77258872223978\n",
       "3. 4.4188406077966\n",
       "4. 3.13549421592915\n",
       "5. 3.80666248977032\n",
       "6. 4.57471097850338\n",
       "7. 2.77258872223978\n",
       "8. 4.4188406077966\n",
       "9. 3.13549421592915\n",
       "10. 3.80666248977032\n",
       "11. 4.57471097850338\n",
       "12. 2.77258872223978\n",
       "13. 4.4188406077966\n",
       "14. 3.13549421592915\n",
       "15. 3.80666248977032\n",
       "16. 4.57471097850338\n",
       "17. 2.77258872223978\n",
       "18. 4.4188406077966\n",
       "19. 3.13549421592915\n",
       "20. 3.80666248977032\n",
       "21. 4.57471097850338\n",
       "22. 2.77258872223978\n",
       "23. 4.4188406077966\n",
       "24. 3.13549421592915\n",
       "25. 3.80666248977032\n",
       "\n",
       "\n"
      ],
      "text/plain": [
       " [1] 4.574711 2.772589 4.418841 3.135494 3.806662 4.574711 2.772589 4.418841\n",
       " [9] 3.135494 3.806662 4.574711 2.772589 4.418841 3.135494 3.806662 4.574711\n",
       "[17] 2.772589 4.418841 3.135494 3.806662 4.574711 2.772589 4.418841 3.135494\n",
       "[25] 3.806662"
      ]
     },
     "metadata": {},
     "output_type": "display_data"
    },
    {
     "data": {
      "text/html": [
       "<style>\n",
       ".list-inline {list-style: none; margin:0; padding: 0}\n",
       ".list-inline>li {display: inline-block}\n",
       ".list-inline>li:not(:last-child)::after {content: \"\\00b7\"; padding: 0 .5ex}\n",
       "</style>\n",
       "<ol class=list-inline><li>3.52636052461616</li><li>0</li><li>3.2188758248682</li><li>2.63905732961526</li><li>3.43398720448515</li><li>3.52636052461616</li><li>0</li><li>3.2188758248682</li><li>2.63905732961526</li><li>3.43398720448515</li><li>3.52636052461616</li><li>0</li><li>3.2188758248682</li><li>2.63905732961526</li><li>3.43398720448515</li><li>3.52636052461616</li><li>0</li><li>3.2188758248682</li><li>2.63905732961526</li><li>3.43398720448515</li><li>3.52636052461616</li><li>0</li><li>3.2188758248682</li><li>2.63905732961526</li><li>3.43398720448515</li></ol>\n"
      ],
      "text/latex": [
       "\\begin{enumerate*}\n",
       "\\item 3.52636052461616\n",
       "\\item 0\n",
       "\\item 3.2188758248682\n",
       "\\item 2.63905732961526\n",
       "\\item 3.43398720448515\n",
       "\\item 3.52636052461616\n",
       "\\item 0\n",
       "\\item 3.2188758248682\n",
       "\\item 2.63905732961526\n",
       "\\item 3.43398720448515\n",
       "\\item 3.52636052461616\n",
       "\\item 0\n",
       "\\item 3.2188758248682\n",
       "\\item 2.63905732961526\n",
       "\\item 3.43398720448515\n",
       "\\item 3.52636052461616\n",
       "\\item 0\n",
       "\\item 3.2188758248682\n",
       "\\item 2.63905732961526\n",
       "\\item 3.43398720448515\n",
       "\\item 3.52636052461616\n",
       "\\item 0\n",
       "\\item 3.2188758248682\n",
       "\\item 2.63905732961526\n",
       "\\item 3.43398720448515\n",
       "\\end{enumerate*}\n"
      ],
      "text/markdown": [
       "1. 3.52636052461616\n",
       "2. 0\n",
       "3. 3.2188758248682\n",
       "4. 2.63905732961526\n",
       "5. 3.43398720448515\n",
       "6. 3.52636052461616\n",
       "7. 0\n",
       "8. 3.2188758248682\n",
       "9. 2.63905732961526\n",
       "10. 3.43398720448515\n",
       "11. 3.52636052461616\n",
       "12. 0\n",
       "13. 3.2188758248682\n",
       "14. 2.63905732961526\n",
       "15. 3.43398720448515\n",
       "16. 3.52636052461616\n",
       "17. 0\n",
       "18. 3.2188758248682\n",
       "19. 2.63905732961526\n",
       "20. 3.43398720448515\n",
       "21. 3.52636052461616\n",
       "22. 0\n",
       "23. 3.2188758248682\n",
       "24. 2.63905732961526\n",
       "25. 3.43398720448515\n",
       "\n",
       "\n"
      ],
      "text/plain": [
       " [1] 3.526361 0.000000 3.218876 2.639057 3.433987 3.526361 0.000000 3.218876\n",
       " [9] 2.639057 3.433987 3.526361 0.000000 3.218876 2.639057 3.433987 3.526361\n",
       "[17] 0.000000 3.218876 2.639057 3.433987 3.526361 0.000000 3.218876 2.639057\n",
       "[25] 3.433987"
      ]
     },
     "metadata": {},
     "output_type": "display_data"
    },
    {
     "data": {
      "text/plain": [
       "   Min. 1st Qu.  Median    Mean 3rd Qu.    Max. \n",
       "  3.738   4.220   4.290   4.228   4.394   4.500 "
      ]
     },
     "metadata": {},
     "output_type": "display_data"
    }
   ],
   "source": [
    "log(table$Sub1Marks)\n",
    "log(table$Sub2Marks)\n",
    "log(table$Sub3Marks)\n",
    "log(table$Sub4Marks)"
   ]
  },
  {
   "cell_type": "code",
   "execution_count": 44,
   "metadata": {},
   "outputs": [
    {
     "data": {
      "text/plain": [
       "   Min. 1st Qu.  Median    Mean 3rd Qu.    Max. \n",
       "  3.296   3.332   3.871   3.777   4.043   4.344 "
      ]
     },
     "metadata": {},
     "output_type": "display_data"
    }
   ],
   "source": [
    "summary(log(table$Sub1Marks), log(table$Sub2Marks),log(table$Sub2Marks),log(table$Sub3Marks))"
   ]
  },
  {
   "cell_type": "markdown",
   "metadata": {},
   "source": [
    "<b>4.\tApply the quantile() command and set the 4-quantile, 5-quantile, and 9-quantile values on the above data set."
   ]
  },
  {
   "cell_type": "code",
   "execution_count": 59,
   "metadata": {},
   "outputs": [
    {
     "data": {
      "text/html": [
       "<style>\n",
       ".dl-inline {width: auto; margin:0; padding: 0}\n",
       ".dl-inline>dt, .dl-inline>dd {float: none; width: auto; display: inline-block}\n",
       ".dl-inline>dt::after {content: \":\\0020\"; padding-right: .5ex}\n",
       ".dl-inline>dt:not(:first-of-type) {padding-left: .5ex}\n",
       "</style><dl class=dl-inline><dt>0%</dt><dd>27</dd><dt>25%</dt><dd>28</dd><dt>50%</dt><dd>48</dd><dt>75%</dt><dd>57</dd><dt>100%</dt><dd>77</dd></dl>\n"
      ],
      "text/latex": [
       "\\begin{description*}\n",
       "\\item[0\\textbackslash{}\\%] 27\n",
       "\\item[25\\textbackslash{}\\%] 28\n",
       "\\item[50\\textbackslash{}\\%] 48\n",
       "\\item[75\\textbackslash{}\\%] 57\n",
       "\\item[100\\textbackslash{}\\%] 77\n",
       "\\end{description*}\n"
      ],
      "text/markdown": [
       "0%\n",
       ":   2725%\n",
       ":   2850%\n",
       ":   4875%\n",
       ":   57100%\n",
       ":   77\n",
       "\n"
      ],
      "text/plain": [
       "  0%  25%  50%  75% 100% \n",
       "  27   28   48   57   77 "
      ]
     },
     "metadata": {},
     "output_type": "display_data"
    },
    {
     "data": {
      "text/html": [
       "<style>\n",
       ".dl-inline {width: auto; margin:0; padding: 0}\n",
       ".dl-inline>dt, .dl-inline>dd {float: none; width: auto; display: inline-block}\n",
       ".dl-inline>dt::after {content: \":\\0020\"; padding-right: .5ex}\n",
       ".dl-inline>dt:not(:first-of-type) {padding-left: .5ex}\n",
       "</style><dl class=dl-inline><dt>0%</dt><dd>27</dd><dt>25%</dt><dd>28</dd><dt>50%</dt><dd>48</dd><dt>75%</dt><dd>57</dd><dt>100%</dt><dd>77</dd></dl>\n"
      ],
      "text/latex": [
       "\\begin{description*}\n",
       "\\item[0\\textbackslash{}\\%] 27\n",
       "\\item[25\\textbackslash{}\\%] 28\n",
       "\\item[50\\textbackslash{}\\%] 48\n",
       "\\item[75\\textbackslash{}\\%] 57\n",
       "\\item[100\\textbackslash{}\\%] 77\n",
       "\\end{description*}\n"
      ],
      "text/markdown": [
       "0%\n",
       ":   2725%\n",
       ":   2850%\n",
       ":   4875%\n",
       ":   57100%\n",
       ":   77\n",
       "\n"
      ],
      "text/plain": [
       "  0%  25%  50%  75% 100% \n",
       "  27   28   48   57   77 "
      ]
     },
     "metadata": {},
     "output_type": "display_data"
    },
    {
     "data": {
      "text/html": [
       "<style>\n",
       ".dl-inline {width: auto; margin:0; padding: 0}\n",
       ".dl-inline>dt, .dl-inline>dd {float: none; width: auto; display: inline-block}\n",
       ".dl-inline>dt::after {content: \":\\0020\"; padding-right: .5ex}\n",
       ".dl-inline>dt:not(:first-of-type) {padding-left: .5ex}\n",
       "</style><dl class=dl-inline><dt>0%</dt><dd>27</dd><dt>25%</dt><dd>28</dd><dt>50%</dt><dd>48</dd><dt>75%</dt><dd>57</dd><dt>100%</dt><dd>77</dd></dl>\n"
      ],
      "text/latex": [
       "\\begin{description*}\n",
       "\\item[0\\textbackslash{}\\%] 27\n",
       "\\item[25\\textbackslash{}\\%] 28\n",
       "\\item[50\\textbackslash{}\\%] 48\n",
       "\\item[75\\textbackslash{}\\%] 57\n",
       "\\item[100\\textbackslash{}\\%] 77\n",
       "\\end{description*}\n"
      ],
      "text/markdown": [
       "0%\n",
       ":   2725%\n",
       ":   2850%\n",
       ":   4875%\n",
       ":   57100%\n",
       ":   77\n",
       "\n"
      ],
      "text/plain": [
       "  0%  25%  50%  75% 100% \n",
       "  27   28   48   57   77 "
      ]
     },
     "metadata": {},
     "output_type": "display_data"
    }
   ],
   "source": [
    "quantile(table$Sub1Marks, type=4)\n",
    "quantile(table$Sub1Marks, type=5)\n",
    "quantile(table$Sub1Marks, type=9)"
   ]
  },
  {
   "cell_type": "markdown",
   "metadata": {},
   "source": [
    "<b>5.\tPerform the cumulative operation on different variables of data set with Cumsum(), Cummax(), Cummin(), and Cumprod() commands."
   ]
  },
  {
   "cell_type": "code",
   "execution_count": 73,
   "metadata": {},
   "outputs": [
    {
     "data": {
      "text/html": [
       "<style>\n",
       ".list-inline {list-style: none; margin:0; padding: 0}\n",
       ".list-inline>li {display: inline-block}\n",
       ".list-inline>li:not(:last-child)::after {content: \"\\00b7\"; padding: 0 .5ex}\n",
       "</style>\n",
       "<ol class=list-inline><li>28</li><li>105</li><li>162</li><li>210</li><li>237</li><li>265</li><li>342</li><li>399</li><li>447</li><li>474</li><li>502</li><li>579</li><li>636</li><li>684</li><li>711</li><li>739</li><li>816</li><li>873</li><li>921</li><li>948</li><li>976</li><li>1053</li><li>1110</li><li>1158</li><li>1185</li></ol>\n"
      ],
      "text/latex": [
       "\\begin{enumerate*}\n",
       "\\item 28\n",
       "\\item 105\n",
       "\\item 162\n",
       "\\item 210\n",
       "\\item 237\n",
       "\\item 265\n",
       "\\item 342\n",
       "\\item 399\n",
       "\\item 447\n",
       "\\item 474\n",
       "\\item 502\n",
       "\\item 579\n",
       "\\item 636\n",
       "\\item 684\n",
       "\\item 711\n",
       "\\item 739\n",
       "\\item 816\n",
       "\\item 873\n",
       "\\item 921\n",
       "\\item 948\n",
       "\\item 976\n",
       "\\item 1053\n",
       "\\item 1110\n",
       "\\item 1158\n",
       "\\item 1185\n",
       "\\end{enumerate*}\n"
      ],
      "text/markdown": [
       "1. 28\n",
       "2. 105\n",
       "3. 162\n",
       "4. 210\n",
       "5. 237\n",
       "6. 265\n",
       "7. 342\n",
       "8. 399\n",
       "9. 447\n",
       "10. 474\n",
       "11. 502\n",
       "12. 579\n",
       "13. 636\n",
       "14. 684\n",
       "15. 711\n",
       "16. 739\n",
       "17. 816\n",
       "18. 873\n",
       "19. 921\n",
       "20. 948\n",
       "21. 976\n",
       "22. 1053\n",
       "23. 1110\n",
       "24. 1158\n",
       "25. 1185\n",
       "\n",
       "\n"
      ],
      "text/plain": [
       " [1]   28  105  162  210  237  265  342  399  447  474  502  579  636  684  711\n",
       "[16]  739  816  873  921  948  976 1053 1110 1158 1185"
      ]
     },
     "metadata": {},
     "output_type": "display_data"
    },
    {
     "data": {
      "text/html": [
       "<style>\n",
       ".list-inline {list-style: none; margin:0; padding: 0}\n",
       ".list-inline>li {display: inline-block}\n",
       ".list-inline>li:not(:last-child)::after {content: \"\\00b7\"; padding: 0 .5ex}\n",
       "</style>\n",
       "<ol class=list-inline><li>28</li><li>77</li><li>77</li><li>77</li><li>77</li><li>77</li><li>77</li><li>77</li><li>77</li><li>77</li><li>77</li><li>77</li><li>77</li><li>77</li><li>77</li><li>77</li><li>77</li><li>77</li><li>77</li><li>77</li><li>77</li><li>77</li><li>77</li><li>77</li><li>77</li></ol>\n"
      ],
      "text/latex": [
       "\\begin{enumerate*}\n",
       "\\item 28\n",
       "\\item 77\n",
       "\\item 77\n",
       "\\item 77\n",
       "\\item 77\n",
       "\\item 77\n",
       "\\item 77\n",
       "\\item 77\n",
       "\\item 77\n",
       "\\item 77\n",
       "\\item 77\n",
       "\\item 77\n",
       "\\item 77\n",
       "\\item 77\n",
       "\\item 77\n",
       "\\item 77\n",
       "\\item 77\n",
       "\\item 77\n",
       "\\item 77\n",
       "\\item 77\n",
       "\\item 77\n",
       "\\item 77\n",
       "\\item 77\n",
       "\\item 77\n",
       "\\item 77\n",
       "\\end{enumerate*}\n"
      ],
      "text/markdown": [
       "1. 28\n",
       "2. 77\n",
       "3. 77\n",
       "4. 77\n",
       "5. 77\n",
       "6. 77\n",
       "7. 77\n",
       "8. 77\n",
       "9. 77\n",
       "10. 77\n",
       "11. 77\n",
       "12. 77\n",
       "13. 77\n",
       "14. 77\n",
       "15. 77\n",
       "16. 77\n",
       "17. 77\n",
       "18. 77\n",
       "19. 77\n",
       "20. 77\n",
       "21. 77\n",
       "22. 77\n",
       "23. 77\n",
       "24. 77\n",
       "25. 77\n",
       "\n",
       "\n"
      ],
      "text/plain": [
       " [1] 28 77 77 77 77 77 77 77 77 77 77 77 77 77 77 77 77 77 77 77 77 77 77 77 77"
      ]
     },
     "metadata": {},
     "output_type": "display_data"
    },
    {
     "data": {
      "text/html": [
       "<style>\n",
       ".list-inline {list-style: none; margin:0; padding: 0}\n",
       ".list-inline>li {display: inline-block}\n",
       ".list-inline>li:not(:last-child)::after {content: \"\\00b7\"; padding: 0 .5ex}\n",
       "</style>\n",
       "<ol class=list-inline><li>28</li><li>28</li><li>28</li><li>28</li><li>27</li><li>27</li><li>27</li><li>27</li><li>27</li><li>27</li><li>27</li><li>27</li><li>27</li><li>27</li><li>27</li><li>27</li><li>27</li><li>27</li><li>27</li><li>27</li><li>27</li><li>27</li><li>27</li><li>27</li><li>27</li></ol>\n"
      ],
      "text/latex": [
       "\\begin{enumerate*}\n",
       "\\item 28\n",
       "\\item 28\n",
       "\\item 28\n",
       "\\item 28\n",
       "\\item 27\n",
       "\\item 27\n",
       "\\item 27\n",
       "\\item 27\n",
       "\\item 27\n",
       "\\item 27\n",
       "\\item 27\n",
       "\\item 27\n",
       "\\item 27\n",
       "\\item 27\n",
       "\\item 27\n",
       "\\item 27\n",
       "\\item 27\n",
       "\\item 27\n",
       "\\item 27\n",
       "\\item 27\n",
       "\\item 27\n",
       "\\item 27\n",
       "\\item 27\n",
       "\\item 27\n",
       "\\item 27\n",
       "\\end{enumerate*}\n"
      ],
      "text/markdown": [
       "1. 28\n",
       "2. 28\n",
       "3. 28\n",
       "4. 28\n",
       "5. 27\n",
       "6. 27\n",
       "7. 27\n",
       "8. 27\n",
       "9. 27\n",
       "10. 27\n",
       "11. 27\n",
       "12. 27\n",
       "13. 27\n",
       "14. 27\n",
       "15. 27\n",
       "16. 27\n",
       "17. 27\n",
       "18. 27\n",
       "19. 27\n",
       "20. 27\n",
       "21. 27\n",
       "22. 27\n",
       "23. 27\n",
       "24. 27\n",
       "25. 27\n",
       "\n",
       "\n"
      ],
      "text/plain": [
       " [1] 28 28 28 28 27 27 27 27 27 27 27 27 27 27 27 27 27 27 27 27 27 27 27 27 27"
      ]
     },
     "metadata": {},
     "output_type": "display_data"
    },
    {
     "data": {
      "text/html": [
       "<style>\n",
       ".list-inline {list-style: none; margin:0; padding: 0}\n",
       ".list-inline>li {display: inline-block}\n",
       ".list-inline>li:not(:last-child)::after {content: \"\\00b7\"; padding: 0 .5ex}\n",
       "</style>\n",
       "<ol class=list-inline><li>28</li><li>2156</li><li>122892</li><li>5898816</li><li>159268032</li><li>4459504896</li><li>343381876992</li><li>19572766988544</li><li>939492815450112</li><li>25366306017153024</li><li>710256568480284672</li><li>54689755772981919744</li><li>3.11731607905997e+21</li><li>1.49631171794879e+23</li><li>4.04004163846172e+24</li><li>1.13121165876928e+26</li><li>8.71032977252347e+27</li><li>4.96488797033838e+29</li><li>2.38314622576242e+31</li><li>6.43449480955854e+32</li><li>1.80165854667639e+34</li><li>1.38727708094082e+36</li><li>7.90747936136268e+37</li><li>3.79559009345408e+39</li><li>1.0248093252326e+41</li></ol>\n"
      ],
      "text/latex": [
       "\\begin{enumerate*}\n",
       "\\item 28\n",
       "\\item 2156\n",
       "\\item 122892\n",
       "\\item 5898816\n",
       "\\item 159268032\n",
       "\\item 4459504896\n",
       "\\item 343381876992\n",
       "\\item 19572766988544\n",
       "\\item 939492815450112\n",
       "\\item 25366306017153024\n",
       "\\item 710256568480284672\n",
       "\\item 54689755772981919744\n",
       "\\item 3.11731607905997e+21\n",
       "\\item 1.49631171794879e+23\n",
       "\\item 4.04004163846172e+24\n",
       "\\item 1.13121165876928e+26\n",
       "\\item 8.71032977252347e+27\n",
       "\\item 4.96488797033838e+29\n",
       "\\item 2.38314622576242e+31\n",
       "\\item 6.43449480955854e+32\n",
       "\\item 1.80165854667639e+34\n",
       "\\item 1.38727708094082e+36\n",
       "\\item 7.90747936136268e+37\n",
       "\\item 3.79559009345408e+39\n",
       "\\item 1.0248093252326e+41\n",
       "\\end{enumerate*}\n"
      ],
      "text/markdown": [
       "1. 28\n",
       "2. 2156\n",
       "3. 122892\n",
       "4. 5898816\n",
       "5. 159268032\n",
       "6. 4459504896\n",
       "7. 343381876992\n",
       "8. 19572766988544\n",
       "9. 939492815450112\n",
       "10. 25366306017153024\n",
       "11. 710256568480284672\n",
       "12. 54689755772981919744\n",
       "13. 3.11731607905997e+21\n",
       "14. 1.49631171794879e+23\n",
       "15. 4.04004163846172e+24\n",
       "16. 1.13121165876928e+26\n",
       "17. 8.71032977252347e+27\n",
       "18. 4.96488797033838e+29\n",
       "19. 2.38314622576242e+31\n",
       "20. 6.43449480955854e+32\n",
       "21. 1.80165854667639e+34\n",
       "22. 1.38727708094082e+36\n",
       "23. 7.90747936136268e+37\n",
       "24. 3.79559009345408e+39\n",
       "25. 1.0248093252326e+41\n",
       "\n",
       "\n"
      ],
      "text/plain": [
       " [1] 2.800000e+01 2.156000e+03 1.228920e+05 5.898816e+06 1.592680e+08\n",
       " [6] 4.459505e+09 3.433819e+11 1.957277e+13 9.394928e+14 2.536631e+16\n",
       "[11] 7.102566e+17 5.468976e+19 3.117316e+21 1.496312e+23 4.040042e+24\n",
       "[16] 1.131212e+26 8.710330e+27 4.964888e+29 2.383146e+31 6.434495e+32\n",
       "[21] 1.801659e+34 1.387277e+36 7.907479e+37 3.795590e+39 1.024809e+41"
      ]
     },
     "metadata": {},
     "output_type": "display_data"
    }
   ],
   "source": [
    "cumsum(table$Sub1Marks)\n",
    "cummax(table$Sub1Marks)\n",
    "cummin(table[['Sub1Marks']])\n",
    "cumprod(table[['Sub1Marks']])"
   ]
  },
  {
   "cell_type": "markdown",
   "metadata": {},
   "source": [
    "<b>6.\tPerform special summary commands for different rows and columns such as rowmeans(), rowsums(), colmeans(), and colsums() commands. Also observe the difference with apply() command."
   ]
  },
  {
   "cell_type": "code",
   "execution_count": 103,
   "metadata": {},
   "outputs": [],
   "source": [
    "Sub1marks <- table$Sub1Marks\n",
    "Sub2marks <- table$Sub2Marks\n",
    "Sub3marks <- table$Sub3Marks\n",
    "Sub4marks <- table$Sub4Marks"
   ]
  },
  {
   "cell_type": "code",
   "execution_count": 104,
   "metadata": {},
   "outputs": [
    {
     "data": {
      "text/html": [
       "<style>\n",
       ".list-inline {list-style: none; margin:0; padding: 0}\n",
       ".list-inline>li {display: inline-block}\n",
       ".list-inline>li:not(:last-child)::after {content: \"\\00b7\"; padding: 0 .5ex}\n",
       "</style>\n",
       "<ol class=list-inline><li>62.25</li><li>40.5</li><li>59.5</li><li>31.75</li><li>46</li><li>62.25</li><li>40.5</li><li>59.5</li><li>31.75</li><li>46</li><li>62.25</li><li>40.5</li><li>59.5</li><li>31.75</li><li>46</li><li>62.25</li><li>40.5</li><li>59.5</li><li>31.75</li><li>46</li><li>62.25</li><li>40.5</li><li>59.5</li><li>31.75</li><li>46</li></ol>\n"
      ],
      "text/latex": [
       "\\begin{enumerate*}\n",
       "\\item 62.25\n",
       "\\item 40.5\n",
       "\\item 59.5\n",
       "\\item 31.75\n",
       "\\item 46\n",
       "\\item 62.25\n",
       "\\item 40.5\n",
       "\\item 59.5\n",
       "\\item 31.75\n",
       "\\item 46\n",
       "\\item 62.25\n",
       "\\item 40.5\n",
       "\\item 59.5\n",
       "\\item 31.75\n",
       "\\item 46\n",
       "\\item 62.25\n",
       "\\item 40.5\n",
       "\\item 59.5\n",
       "\\item 31.75\n",
       "\\item 46\n",
       "\\item 62.25\n",
       "\\item 40.5\n",
       "\\item 59.5\n",
       "\\item 31.75\n",
       "\\item 46\n",
       "\\end{enumerate*}\n"
      ],
      "text/markdown": [
       "1. 62.25\n",
       "2. 40.5\n",
       "3. 59.5\n",
       "4. 31.75\n",
       "5. 46\n",
       "6. 62.25\n",
       "7. 40.5\n",
       "8. 59.5\n",
       "9. 31.75\n",
       "10. 46\n",
       "11. 62.25\n",
       "12. 40.5\n",
       "13. 59.5\n",
       "14. 31.75\n",
       "15. 46\n",
       "16. 62.25\n",
       "17. 40.5\n",
       "18. 59.5\n",
       "19. 31.75\n",
       "20. 46\n",
       "21. 62.25\n",
       "22. 40.5\n",
       "23. 59.5\n",
       "24. 31.75\n",
       "25. 46\n",
       "\n",
       "\n"
      ],
      "text/plain": [
       " [1] 62.25 40.50 59.50 31.75 46.00 62.25 40.50 59.50 31.75 46.00 62.25 40.50\n",
       "[13] 59.50 31.75 46.00 62.25 40.50 59.50 31.75 46.00 62.25 40.50 59.50 31.75\n",
       "[25] 46.00"
      ]
     },
     "metadata": {},
     "output_type": "display_data"
    },
    {
     "data": {
      "text/html": [
       "<style>\n",
       ".list-inline {list-style: none; margin:0; padding: 0}\n",
       ".list-inline>li {display: inline-block}\n",
       ".list-inline>li:not(:last-child)::after {content: \"\\00b7\"; padding: 0 .5ex}\n",
       "</style>\n",
       "<ol class=list-inline><li>249</li><li>162</li><li>238</li><li>127</li><li>184</li><li>249</li><li>162</li><li>238</li><li>127</li><li>184</li><li>249</li><li>162</li><li>238</li><li>127</li><li>184</li><li>249</li><li>162</li><li>238</li><li>127</li><li>184</li><li>249</li><li>162</li><li>238</li><li>127</li><li>184</li></ol>\n"
      ],
      "text/latex": [
       "\\begin{enumerate*}\n",
       "\\item 249\n",
       "\\item 162\n",
       "\\item 238\n",
       "\\item 127\n",
       "\\item 184\n",
       "\\item 249\n",
       "\\item 162\n",
       "\\item 238\n",
       "\\item 127\n",
       "\\item 184\n",
       "\\item 249\n",
       "\\item 162\n",
       "\\item 238\n",
       "\\item 127\n",
       "\\item 184\n",
       "\\item 249\n",
       "\\item 162\n",
       "\\item 238\n",
       "\\item 127\n",
       "\\item 184\n",
       "\\item 249\n",
       "\\item 162\n",
       "\\item 238\n",
       "\\item 127\n",
       "\\item 184\n",
       "\\end{enumerate*}\n"
      ],
      "text/markdown": [
       "1. 249\n",
       "2. 162\n",
       "3. 238\n",
       "4. 127\n",
       "5. 184\n",
       "6. 249\n",
       "7. 162\n",
       "8. 238\n",
       "9. 127\n",
       "10. 184\n",
       "11. 249\n",
       "12. 162\n",
       "13. 238\n",
       "14. 127\n",
       "15. 184\n",
       "16. 249\n",
       "17. 162\n",
       "18. 238\n",
       "19. 127\n",
       "20. 184\n",
       "21. 249\n",
       "22. 162\n",
       "23. 238\n",
       "24. 127\n",
       "25. 184\n",
       "\n",
       "\n"
      ],
      "text/plain": [
       " [1] 249 162 238 127 184 249 162 238 127 184 249 162 238 127 184 249 162 238 127\n",
       "[20] 184 249 162 238 127 184"
      ]
     },
     "metadata": {},
     "output_type": "display_data"
    },
    {
     "data": {
      "text/html": [
       "<style>\n",
       ".dl-inline {width: auto; margin:0; padding: 0}\n",
       ".dl-inline>dt, .dl-inline>dd {float: none; width: auto; display: inline-block}\n",
       ".dl-inline>dt::after {content: \":\\0020\"; padding-right: .5ex}\n",
       ".dl-inline>dt:not(:first-of-type) {padding-left: .5ex}\n",
       "</style><dl class=dl-inline><dt>Sub1marks</dt><dd>47.4</dd><dt>Sub2marks</dt><dd>52.8</dd><dt>Sub3marks</dt><dd>21</dd><dt>Sub4marks</dt><dd>70.8</dd></dl>\n"
      ],
      "text/latex": [
       "\\begin{description*}\n",
       "\\item[Sub1marks] 47.4\n",
       "\\item[Sub2marks] 52.8\n",
       "\\item[Sub3marks] 21\n",
       "\\item[Sub4marks] 70.8\n",
       "\\end{description*}\n"
      ],
      "text/markdown": [
       "Sub1marks\n",
       ":   47.4Sub2marks\n",
       ":   52.8Sub3marks\n",
       ":   21Sub4marks\n",
       ":   70.8\n",
       "\n"
      ],
      "text/plain": [
       "Sub1marks Sub2marks Sub3marks Sub4marks \n",
       "     47.4      52.8      21.0      70.8 "
      ]
     },
     "metadata": {},
     "output_type": "display_data"
    },
    {
     "data": {
      "text/html": [
       "<style>\n",
       ".dl-inline {width: auto; margin:0; padding: 0}\n",
       ".dl-inline>dt, .dl-inline>dd {float: none; width: auto; display: inline-block}\n",
       ".dl-inline>dt::after {content: \":\\0020\"; padding-right: .5ex}\n",
       ".dl-inline>dt:not(:first-of-type) {padding-left: .5ex}\n",
       "</style><dl class=dl-inline><dt>Sub1marks</dt><dd>1185</dd><dt>Sub2marks</dt><dd>1320</dd><dt>Sub3marks</dt><dd>525</dd><dt>Sub4marks</dt><dd>1770</dd></dl>\n"
      ],
      "text/latex": [
       "\\begin{description*}\n",
       "\\item[Sub1marks] 1185\n",
       "\\item[Sub2marks] 1320\n",
       "\\item[Sub3marks] 525\n",
       "\\item[Sub4marks] 1770\n",
       "\\end{description*}\n"
      ],
      "text/markdown": [
       "Sub1marks\n",
       ":   1185Sub2marks\n",
       ":   1320Sub3marks\n",
       ":   525Sub4marks\n",
       ":   1770\n",
       "\n"
      ],
      "text/plain": [
       "Sub1marks Sub2marks Sub3marks Sub4marks \n",
       "     1185      1320       525      1770 "
      ]
     },
     "metadata": {},
     "output_type": "display_data"
    },
    {
     "data": {
      "text/html": [
       "<style>\n",
       ".dl-inline {width: auto; margin:0; padding: 0}\n",
       ".dl-inline>dt, .dl-inline>dd {float: none; width: auto; display: inline-block}\n",
       ".dl-inline>dt::after {content: \":\\0020\"; padding-right: .5ex}\n",
       ".dl-inline>dt:not(:first-of-type) {padding-left: .5ex}\n",
       "</style><dl class=dl-inline><dt>Sub1marks</dt><dd>1185</dd><dt>Sub2marks</dt><dd>1320</dd><dt>Sub3marks</dt><dd>525</dd><dt>Sub4marks</dt><dd>1770</dd></dl>\n"
      ],
      "text/latex": [
       "\\begin{description*}\n",
       "\\item[Sub1marks] 1185\n",
       "\\item[Sub2marks] 1320\n",
       "\\item[Sub3marks] 525\n",
       "\\item[Sub4marks] 1770\n",
       "\\end{description*}\n"
      ],
      "text/markdown": [
       "Sub1marks\n",
       ":   1185Sub2marks\n",
       ":   1320Sub3marks\n",
       ":   525Sub4marks\n",
       ":   1770\n",
       "\n"
      ],
      "text/plain": [
       "Sub1marks Sub2marks Sub3marks Sub4marks \n",
       "     1185      1320       525      1770 "
      ]
     },
     "metadata": {},
     "output_type": "display_data"
    }
   ],
   "source": [
    "x <- cbind(Sub1marks,Sub2marks,Sub3marks,Sub4marks)\n",
    "rowMeans(x, na.rm = T)\n",
    "group<-c(sample(0:25,1))\n",
    "rowSums(x,na.rm = T)\n",
    "colMeans(x,na.rm = T)\n",
    "colSums(x, na.rm = T)\n",
    "apply(x,2,sum)"
   ]
  },
  {
   "cell_type": "markdown",
   "metadata": {},
   "source": [
    "<b>7.\tExplore the descriptive statistics in R for Matrix object."
   ]
  },
  {
   "cell_type": "code",
   "execution_count": 80,
   "metadata": {},
   "outputs": [
    {
     "data": {
      "text/html": [
       "<table>\n",
       "<caption>A matrix: 3 × 3 of type int</caption>\n",
       "<tbody>\n",
       "\t<tr><td>1</td><td>4</td><td>7</td></tr>\n",
       "\t<tr><td>2</td><td>5</td><td>8</td></tr>\n",
       "\t<tr><td>3</td><td>6</td><td>9</td></tr>\n",
       "</tbody>\n",
       "</table>\n"
      ],
      "text/latex": [
       "A matrix: 3 × 3 of type int\n",
       "\\begin{tabular}{lll}\n",
       "\t 1 & 4 & 7\\\\\n",
       "\t 2 & 5 & 8\\\\\n",
       "\t 3 & 6 & 9\\\\\n",
       "\\end{tabular}\n"
      ],
      "text/markdown": [
       "\n",
       "A matrix: 3 × 3 of type int\n",
       "\n",
       "| 1 | 4 | 7 |\n",
       "| 2 | 5 | 8 |\n",
       "| 3 | 6 | 9 |\n",
       "\n"
      ],
      "text/plain": [
       "     [,1] [,2] [,3]\n",
       "[1,] 1    4    7   \n",
       "[2,] 2    5    8   \n",
       "[3,] 3    6    9   "
      ]
     },
     "metadata": {},
     "output_type": "display_data"
    }
   ],
   "source": [
    "mat <- matrix(1:9, 3)\n",
    "mat"
   ]
  },
  {
   "cell_type": "code",
   "execution_count": 81,
   "metadata": {},
   "outputs": [
    {
     "data": {
      "text/html": [
       "'matrix'"
      ],
      "text/latex": [
       "'matrix'"
      ],
      "text/markdown": [
       "'matrix'"
      ],
      "text/plain": [
       "[1] \"matrix\""
      ]
     },
     "metadata": {},
     "output_type": "display_data"
    }
   ],
   "source": [
    "class(mat)"
   ]
  },
  {
   "cell_type": "code",
   "execution_count": 106,
   "metadata": {},
   "outputs": [
    {
     "data": {
      "text/html": [
       "5"
      ],
      "text/latex": [
       "5"
      ],
      "text/markdown": [
       "5"
      ],
      "text/plain": [
       "[1] 5"
      ]
     },
     "metadata": {},
     "output_type": "display_data"
    },
    {
     "data": {
      "text/html": [
       "5"
      ],
      "text/latex": [
       "5"
      ],
      "text/markdown": [
       "5"
      ],
      "text/plain": [
       "[1] 5"
      ]
     },
     "metadata": {},
     "output_type": "display_data"
    },
    {
     "data": {
      "text/html": [
       "2.73861278752583"
      ],
      "text/latex": [
       "2.73861278752583"
      ],
      "text/markdown": [
       "2.73861278752583"
      ],
      "text/plain": [
       "[1] 2.738613"
      ]
     },
     "metadata": {},
     "output_type": "display_data"
    },
    {
     "data": {
      "text/html": [
       "7.5"
      ],
      "text/latex": [
       "7.5"
      ],
      "text/markdown": [
       "7.5"
      ],
      "text/plain": [
       "[1] 7.5"
      ]
     },
     "metadata": {},
     "output_type": "display_data"
    }
   ],
   "source": [
    "mean(mat)\n",
    "median(mat)\n",
    "sd(mat)\n",
    "var <- sd(mat)*sd(mat)\n",
    "var"
   ]
  },
  {
   "cell_type": "markdown",
   "metadata": {},
   "source": [
    "<b>8.\tExplore the descriptive statistics in R for lists."
   ]
  },
  {
   "cell_type": "code",
   "execution_count": 111,
   "metadata": {},
   "outputs": [
    {
     "name": "stdout",
     "output_type": "stream",
     "text": [
      "[[1]]\n",
      "[1] 1 2 3 4 5 6 7 8 9\n",
      "\n",
      "[[2]]\n",
      "[1] 10 11 12 13 14 15 16 17\n",
      "\n"
     ]
    }
   ],
   "source": [
    "lit <- list(1:9, c(10:17))\n",
    "print(lit)"
   ]
  },
  {
   "cell_type": "code",
   "execution_count": 116,
   "metadata": {},
   "outputs": [
    {
     "data": {
      "text/plain": [
       "     Length Class  Mode   \n",
       "[1,] 9      -none- numeric\n",
       "[2,] 8      -none- numeric"
      ]
     },
     "metadata": {},
     "output_type": "display_data"
    }
   ],
   "source": [
    "summary(lit)"
   ]
  },
  {
   "cell_type": "code",
   "execution_count": 121,
   "metadata": {},
   "outputs": [
    {
     "data": {
      "text/html": [
       "5"
      ],
      "text/latex": [
       "5"
      ],
      "text/markdown": [
       "5"
      ],
      "text/plain": [
       "[1] 5"
      ]
     },
     "metadata": {},
     "output_type": "display_data"
    },
    {
     "data": {
      "text/html": [
       "5"
      ],
      "text/latex": [
       "5"
      ],
      "text/markdown": [
       "5"
      ],
      "text/plain": [
       "[1] 5"
      ]
     },
     "metadata": {},
     "output_type": "display_data"
    },
    {
     "data": {
      "text/html": [
       "2.73861278752583"
      ],
      "text/latex": [
       "2.73861278752583"
      ],
      "text/markdown": [
       "2.73861278752583"
      ],
      "text/plain": [
       "[1] 2.738613"
      ]
     },
     "metadata": {},
     "output_type": "display_data"
    },
    {
     "data": {
      "text/html": [
       "7.5"
      ],
      "text/latex": [
       "7.5"
      ],
      "text/markdown": [
       "7.5"
      ],
      "text/plain": [
       "[1] 7.5"
      ]
     },
     "metadata": {},
     "output_type": "display_data"
    }
   ],
   "source": [
    "mean(lit[[1]])\n",
    "median(lit[[1]])\n",
    "sd(lit[[1]])\n",
    "var(lit[[1]])"
   ]
  },
  {
   "cell_type": "markdown",
   "metadata": {},
   "source": [
    "<center><b> <h1>*****"
   ]
  }
 ],
 "metadata": {
  "kernelspec": {
   "display_name": "R",
   "language": "R",
   "name": "ir"
  },
  "language_info": {
   "codemirror_mode": "r",
   "file_extension": ".r",
   "mimetype": "text/x-r-source",
   "name": "R",
   "pygments_lexer": "r",
   "version": "3.6.3"
  }
 },
 "nbformat": 4,
 "nbformat_minor": 4
}
